{
 "cells": [
  {
   "cell_type": "markdown",
   "id": "8c7c7f63",
   "metadata": {
    "papermill": {
     "duration": 0.035696,
     "end_time": "2021-12-20T07:31:58.348391",
     "exception": false,
     "start_time": "2021-12-20T07:31:58.312695",
     "status": "completed"
    },
    "tags": []
   },
   "source": [
    "In this notebook, study on tensile strength of the FDM fabricated component is taken as major factor. This is because when FDM fabricated component achieves desire strength it would meet application requirment."
   ]
  },
  {
   "cell_type": "markdown",
   "id": "80f44f9f",
   "metadata": {
    "papermill": {
     "duration": 0.033536,
     "end_time": "2021-12-20T07:31:58.418253",
     "exception": false,
     "start_time": "2021-12-20T07:31:58.384717",
     "status": "completed"
    },
    "tags": []
   },
   "source": [
    "The content of this notebook follows:\n",
    "* Data Loading\n",
    "* EDA \n",
    "* Visualization\n",
    "* Feature importance\n",
    "* Modelling"
   ]
  },
  {
   "cell_type": "markdown",
   "id": "818af13e",
   "metadata": {
    "papermill": {
     "duration": 0.032586,
     "end_time": "2021-12-20T07:31:58.482977",
     "exception": false,
     "start_time": "2021-12-20T07:31:58.450391",
     "status": "completed"
    },
    "tags": []
   },
   "source": [
    "# **Data Loading**"
   ]
  },
  {
   "cell_type": "code",
   "execution_count": 1,
   "id": "c5c8f2ee",
   "metadata": {
    "execution": {
     "iopub.execute_input": "2021-12-20T07:31:58.613094Z",
     "iopub.status.busy": "2021-12-20T07:31:58.606565Z",
     "iopub.status.idle": "2021-12-20T07:31:59.686546Z",
     "shell.execute_reply": "2021-12-20T07:31:59.687251Z",
     "shell.execute_reply.started": "2021-12-20T07:08:15.097609Z"
    },
    "papermill": {
     "duration": 1.159023,
     "end_time": "2021-12-20T07:31:59.687571",
     "exception": false,
     "start_time": "2021-12-20T07:31:58.528548",
     "status": "completed"
    },
    "tags": []
   },
   "outputs": [],
   "source": [
    "import numpy as np\n",
    "import pandas as pd\n",
    "import matplotlib.pyplot as plt\n",
    "import seaborn as sns"
   ]
  },
  {
   "cell_type": "code",
   "execution_count": 2,
   "id": "7853b513",
   "metadata": {
    "execution": {
     "iopub.execute_input": "2021-12-20T07:31:59.768640Z",
     "iopub.status.busy": "2021-12-20T07:31:59.767755Z",
     "iopub.status.idle": "2021-12-20T07:31:59.814999Z",
     "shell.execute_reply": "2021-12-20T07:31:59.815894Z",
     "shell.execute_reply.started": "2021-12-20T07:08:15.915327Z"
    },
    "papermill": {
     "duration": 0.091399,
     "end_time": "2021-12-20T07:31:59.816081",
     "exception": false,
     "start_time": "2021-12-20T07:31:59.724682",
     "status": "completed"
    },
    "tags": []
   },
   "outputs": [
    {
     "data": {
      "text/html": [
       "<div>\n",
       "<style scoped>\n",
       "    .dataframe tbody tr th:only-of-type {\n",
       "        vertical-align: middle;\n",
       "    }\n",
       "\n",
       "    .dataframe tbody tr th {\n",
       "        vertical-align: top;\n",
       "    }\n",
       "\n",
       "    .dataframe thead th {\n",
       "        text-align: right;\n",
       "    }\n",
       "</style>\n",
       "<table border=\"1\" class=\"dataframe\">\n",
       "  <thead>\n",
       "    <tr style=\"text-align: right;\">\n",
       "      <th></th>\n",
       "      <th>layer_height</th>\n",
       "      <th>wall_thickness</th>\n",
       "      <th>infill_density</th>\n",
       "      <th>infill_pattern</th>\n",
       "      <th>nozzle_temperature</th>\n",
       "      <th>bed_temperature</th>\n",
       "      <th>print_speed</th>\n",
       "      <th>material</th>\n",
       "      <th>fan_speed</th>\n",
       "      <th>roughness</th>\n",
       "      <th>tension_strenght</th>\n",
       "      <th>elongation</th>\n",
       "    </tr>\n",
       "  </thead>\n",
       "  <tbody>\n",
       "    <tr>\n",
       "      <th>0</th>\n",
       "      <td>0.02</td>\n",
       "      <td>8</td>\n",
       "      <td>90</td>\n",
       "      <td>grid</td>\n",
       "      <td>220</td>\n",
       "      <td>60</td>\n",
       "      <td>40</td>\n",
       "      <td>abs</td>\n",
       "      <td>0</td>\n",
       "      <td>25</td>\n",
       "      <td>18</td>\n",
       "      <td>1.2</td>\n",
       "    </tr>\n",
       "    <tr>\n",
       "      <th>1</th>\n",
       "      <td>0.02</td>\n",
       "      <td>7</td>\n",
       "      <td>90</td>\n",
       "      <td>honeycomb</td>\n",
       "      <td>225</td>\n",
       "      <td>65</td>\n",
       "      <td>40</td>\n",
       "      <td>abs</td>\n",
       "      <td>25</td>\n",
       "      <td>32</td>\n",
       "      <td>16</td>\n",
       "      <td>1.4</td>\n",
       "    </tr>\n",
       "    <tr>\n",
       "      <th>2</th>\n",
       "      <td>0.02</td>\n",
       "      <td>1</td>\n",
       "      <td>80</td>\n",
       "      <td>grid</td>\n",
       "      <td>230</td>\n",
       "      <td>70</td>\n",
       "      <td>40</td>\n",
       "      <td>abs</td>\n",
       "      <td>50</td>\n",
       "      <td>40</td>\n",
       "      <td>8</td>\n",
       "      <td>0.8</td>\n",
       "    </tr>\n",
       "    <tr>\n",
       "      <th>3</th>\n",
       "      <td>0.02</td>\n",
       "      <td>4</td>\n",
       "      <td>70</td>\n",
       "      <td>honeycomb</td>\n",
       "      <td>240</td>\n",
       "      <td>75</td>\n",
       "      <td>40</td>\n",
       "      <td>abs</td>\n",
       "      <td>75</td>\n",
       "      <td>68</td>\n",
       "      <td>10</td>\n",
       "      <td>0.5</td>\n",
       "    </tr>\n",
       "    <tr>\n",
       "      <th>4</th>\n",
       "      <td>0.02</td>\n",
       "      <td>6</td>\n",
       "      <td>90</td>\n",
       "      <td>grid</td>\n",
       "      <td>250</td>\n",
       "      <td>80</td>\n",
       "      <td>40</td>\n",
       "      <td>abs</td>\n",
       "      <td>100</td>\n",
       "      <td>92</td>\n",
       "      <td>5</td>\n",
       "      <td>0.7</td>\n",
       "    </tr>\n",
       "  </tbody>\n",
       "</table>\n",
       "</div>"
      ],
      "text/plain": [
       "   layer_height  wall_thickness  infill_density infill_pattern  \\\n",
       "0          0.02               8              90           grid   \n",
       "1          0.02               7              90      honeycomb   \n",
       "2          0.02               1              80           grid   \n",
       "3          0.02               4              70      honeycomb   \n",
       "4          0.02               6              90           grid   \n",
       "\n",
       "   nozzle_temperature  bed_temperature  print_speed material  fan_speed  \\\n",
       "0                 220               60           40      abs          0   \n",
       "1                 225               65           40      abs         25   \n",
       "2                 230               70           40      abs         50   \n",
       "3                 240               75           40      abs         75   \n",
       "4                 250               80           40      abs        100   \n",
       "\n",
       "   roughness  tension_strenght  elongation  \n",
       "0         25                18         1.2  \n",
       "1         32                16         1.4  \n",
       "2         40                 8         0.8  \n",
       "3         68                10         0.5  \n",
       "4         92                 5         0.7  "
      ]
     },
     "execution_count": 2,
     "metadata": {},
     "output_type": "execute_result"
    }
   ],
   "source": [
    "data=pd.read_csv('../input/3dprinter/data.csv')\n",
    "data.head()"
   ]
  },
  {
   "cell_type": "code",
   "execution_count": 3,
   "id": "7e827594",
   "metadata": {
    "execution": {
     "iopub.execute_input": "2021-12-20T07:31:59.902633Z",
     "iopub.status.busy": "2021-12-20T07:31:59.901764Z",
     "iopub.status.idle": "2021-12-20T07:31:59.906711Z",
     "shell.execute_reply": "2021-12-20T07:31:59.906068Z",
     "shell.execute_reply.started": "2021-12-20T07:08:15.956116Z"
    },
    "papermill": {
     "duration": 0.051129,
     "end_time": "2021-12-20T07:31:59.906844",
     "exception": false,
     "start_time": "2021-12-20T07:31:59.855715",
     "status": "completed"
    },
    "tags": []
   },
   "outputs": [
    {
     "data": {
      "text/plain": [
       "(50, 12)"
      ]
     },
     "execution_count": 3,
     "metadata": {},
     "output_type": "execute_result"
    }
   ],
   "source": [
    "data.shape"
   ]
  },
  {
   "cell_type": "code",
   "execution_count": 4,
   "id": "9e606ada",
   "metadata": {
    "execution": {
     "iopub.execute_input": "2021-12-20T07:31:59.995091Z",
     "iopub.status.busy": "2021-12-20T07:31:59.993340Z",
     "iopub.status.idle": "2021-12-20T07:31:59.998330Z",
     "shell.execute_reply": "2021-12-20T07:31:59.997709Z",
     "shell.execute_reply.started": "2021-12-20T07:08:15.965176Z"
    },
    "papermill": {
     "duration": 0.052605,
     "end_time": "2021-12-20T07:31:59.998490",
     "exception": false,
     "start_time": "2021-12-20T07:31:59.945885",
     "status": "completed"
    },
    "tags": []
   },
   "outputs": [
    {
     "data": {
      "text/plain": [
       "layer_height          False\n",
       "wall_thickness        False\n",
       "infill_density        False\n",
       "infill_pattern        False\n",
       "nozzle_temperature    False\n",
       "bed_temperature       False\n",
       "print_speed           False\n",
       "material              False\n",
       "fan_speed             False\n",
       "roughness             False\n",
       "tension_strenght      False\n",
       "elongation            False\n",
       "dtype: bool"
      ]
     },
     "execution_count": 4,
     "metadata": {},
     "output_type": "execute_result"
    }
   ],
   "source": [
    "data.isnull().any()"
   ]
  },
  {
   "cell_type": "markdown",
   "id": "d9e93ec4",
   "metadata": {
    "papermill": {
     "duration": 0.039846,
     "end_time": "2021-12-20T07:32:00.081175",
     "exception": false,
     "start_time": "2021-12-20T07:32:00.041329",
     "status": "completed"
    },
    "tags": []
   },
   "source": [
    "# **EDA**"
   ]
  },
  {
   "cell_type": "code",
   "execution_count": 5,
   "id": "9aaea553",
   "metadata": {
    "execution": {
     "iopub.execute_input": "2021-12-20T07:32:00.183838Z",
     "iopub.status.busy": "2021-12-20T07:32:00.183127Z",
     "iopub.status.idle": "2021-12-20T07:32:00.191080Z",
     "shell.execute_reply": "2021-12-20T07:32:00.190333Z",
     "shell.execute_reply.started": "2021-12-20T07:08:15.977668Z"
    },
    "papermill": {
     "duration": 0.067939,
     "end_time": "2021-12-20T07:32:00.191304",
     "exception": false,
     "start_time": "2021-12-20T07:32:00.123365",
     "status": "completed"
    },
    "tags": []
   },
   "outputs": [
    {
     "data": {
      "text/html": [
       "<div>\n",
       "<style scoped>\n",
       "    .dataframe tbody tr th:only-of-type {\n",
       "        vertical-align: middle;\n",
       "    }\n",
       "\n",
       "    .dataframe tbody tr th {\n",
       "        vertical-align: top;\n",
       "    }\n",
       "\n",
       "    .dataframe thead th {\n",
       "        text-align: right;\n",
       "    }\n",
       "</style>\n",
       "<table border=\"1\" class=\"dataframe\">\n",
       "  <thead>\n",
       "    <tr style=\"text-align: right;\">\n",
       "      <th></th>\n",
       "      <th>infill_pattern</th>\n",
       "      <th>material</th>\n",
       "    </tr>\n",
       "  </thead>\n",
       "  <tbody>\n",
       "    <tr>\n",
       "      <th>0</th>\n",
       "      <td>grid</td>\n",
       "      <td>abs</td>\n",
       "    </tr>\n",
       "    <tr>\n",
       "      <th>1</th>\n",
       "      <td>honeycomb</td>\n",
       "      <td>abs</td>\n",
       "    </tr>\n",
       "    <tr>\n",
       "      <th>2</th>\n",
       "      <td>grid</td>\n",
       "      <td>abs</td>\n",
       "    </tr>\n",
       "    <tr>\n",
       "      <th>3</th>\n",
       "      <td>honeycomb</td>\n",
       "      <td>abs</td>\n",
       "    </tr>\n",
       "    <tr>\n",
       "      <th>4</th>\n",
       "      <td>grid</td>\n",
       "      <td>abs</td>\n",
       "    </tr>\n",
       "  </tbody>\n",
       "</table>\n",
       "</div>"
      ],
      "text/plain": [
       "  infill_pattern material\n",
       "0           grid      abs\n",
       "1      honeycomb      abs\n",
       "2           grid      abs\n",
       "3      honeycomb      abs\n",
       "4           grid      abs"
      ]
     },
     "execution_count": 5,
     "metadata": {},
     "output_type": "execute_result"
    }
   ],
   "source": [
    "data.select_dtypes(include='object').head()"
   ]
  },
  {
   "cell_type": "code",
   "execution_count": 6,
   "id": "64ecc9c0",
   "metadata": {
    "execution": {
     "iopub.execute_input": "2021-12-20T07:32:00.286986Z",
     "iopub.status.busy": "2021-12-20T07:32:00.286054Z",
     "iopub.status.idle": "2021-12-20T07:32:00.289623Z",
     "shell.execute_reply": "2021-12-20T07:32:00.290159Z",
     "shell.execute_reply.started": "2021-12-20T07:08:15.996589Z"
    },
    "papermill": {
     "duration": 0.057592,
     "end_time": "2021-12-20T07:32:00.290454",
     "exception": false,
     "start_time": "2021-12-20T07:32:00.232862",
     "status": "completed"
    },
    "tags": []
   },
   "outputs": [
    {
     "data": {
      "text/plain": [
       "grid         25\n",
       "honeycomb    25\n",
       "Name: infill_pattern, dtype: int64"
      ]
     },
     "execution_count": 6,
     "metadata": {},
     "output_type": "execute_result"
    }
   ],
   "source": [
    "data['infill_pattern'].value_counts()"
   ]
  },
  {
   "cell_type": "code",
   "execution_count": 7,
   "id": "cfe65f92",
   "metadata": {
    "execution": {
     "iopub.execute_input": "2021-12-20T07:32:00.381689Z",
     "iopub.status.busy": "2021-12-20T07:32:00.376864Z",
     "iopub.status.idle": "2021-12-20T07:32:00.386194Z",
     "shell.execute_reply": "2021-12-20T07:32:00.386789Z",
     "shell.execute_reply.started": "2021-12-20T07:08:16.006984Z"
    },
    "papermill": {
     "duration": 0.055346,
     "end_time": "2021-12-20T07:32:00.386959",
     "exception": false,
     "start_time": "2021-12-20T07:32:00.331613",
     "status": "completed"
    },
    "tags": []
   },
   "outputs": [
    {
     "data": {
      "text/plain": [
       "abs    25\n",
       "pla    25\n",
       "Name: material, dtype: int64"
      ]
     },
     "execution_count": 7,
     "metadata": {},
     "output_type": "execute_result"
    }
   ],
   "source": [
    "data['material'].value_counts()"
   ]
  },
  {
   "cell_type": "code",
   "execution_count": 8,
   "id": "05e8264a",
   "metadata": {
    "execution": {
     "iopub.execute_input": "2021-12-20T07:32:00.484130Z",
     "iopub.status.busy": "2021-12-20T07:32:00.483001Z",
     "iopub.status.idle": "2021-12-20T07:32:00.485825Z",
     "shell.execute_reply": "2021-12-20T07:32:00.486364Z",
     "shell.execute_reply.started": "2021-12-20T07:08:16.021376Z"
    },
    "papermill": {
     "duration": 0.058346,
     "end_time": "2021-12-20T07:32:00.486537",
     "exception": false,
     "start_time": "2021-12-20T07:32:00.428191",
     "status": "completed"
    },
    "tags": []
   },
   "outputs": [],
   "source": [
    "data_1=pd.get_dummies(data)"
   ]
  },
  {
   "cell_type": "code",
   "execution_count": 9,
   "id": "0c3b3b9e",
   "metadata": {
    "execution": {
     "iopub.execute_input": "2021-12-20T07:32:00.590931Z",
     "iopub.status.busy": "2021-12-20T07:32:00.590109Z",
     "iopub.status.idle": "2021-12-20T07:32:00.597085Z",
     "shell.execute_reply": "2021-12-20T07:32:00.597768Z",
     "shell.execute_reply.started": "2021-12-20T07:08:16.038129Z"
    },
    "papermill": {
     "duration": 0.069868,
     "end_time": "2021-12-20T07:32:00.597948",
     "exception": false,
     "start_time": "2021-12-20T07:32:00.528080",
     "status": "completed"
    },
    "tags": []
   },
   "outputs": [
    {
     "data": {
      "text/html": [
       "<div>\n",
       "<style scoped>\n",
       "    .dataframe tbody tr th:only-of-type {\n",
       "        vertical-align: middle;\n",
       "    }\n",
       "\n",
       "    .dataframe tbody tr th {\n",
       "        vertical-align: top;\n",
       "    }\n",
       "\n",
       "    .dataframe thead th {\n",
       "        text-align: right;\n",
       "    }\n",
       "</style>\n",
       "<table border=\"1\" class=\"dataframe\">\n",
       "  <thead>\n",
       "    <tr style=\"text-align: right;\">\n",
       "      <th></th>\n",
       "      <th>layer_height</th>\n",
       "      <th>wall_thickness</th>\n",
       "      <th>infill_density</th>\n",
       "      <th>nozzle_temperature</th>\n",
       "      <th>bed_temperature</th>\n",
       "      <th>print_speed</th>\n",
       "      <th>fan_speed</th>\n",
       "      <th>roughness</th>\n",
       "      <th>tension_strenght</th>\n",
       "      <th>elongation</th>\n",
       "      <th>infill_pattern_grid</th>\n",
       "      <th>infill_pattern_honeycomb</th>\n",
       "      <th>material_abs</th>\n",
       "      <th>material_pla</th>\n",
       "    </tr>\n",
       "  </thead>\n",
       "  <tbody>\n",
       "    <tr>\n",
       "      <th>0</th>\n",
       "      <td>0.02</td>\n",
       "      <td>8</td>\n",
       "      <td>90</td>\n",
       "      <td>220</td>\n",
       "      <td>60</td>\n",
       "      <td>40</td>\n",
       "      <td>0</td>\n",
       "      <td>25</td>\n",
       "      <td>18</td>\n",
       "      <td>1.2</td>\n",
       "      <td>1</td>\n",
       "      <td>0</td>\n",
       "      <td>1</td>\n",
       "      <td>0</td>\n",
       "    </tr>\n",
       "    <tr>\n",
       "      <th>1</th>\n",
       "      <td>0.02</td>\n",
       "      <td>7</td>\n",
       "      <td>90</td>\n",
       "      <td>225</td>\n",
       "      <td>65</td>\n",
       "      <td>40</td>\n",
       "      <td>25</td>\n",
       "      <td>32</td>\n",
       "      <td>16</td>\n",
       "      <td>1.4</td>\n",
       "      <td>0</td>\n",
       "      <td>1</td>\n",
       "      <td>1</td>\n",
       "      <td>0</td>\n",
       "    </tr>\n",
       "    <tr>\n",
       "      <th>2</th>\n",
       "      <td>0.02</td>\n",
       "      <td>1</td>\n",
       "      <td>80</td>\n",
       "      <td>230</td>\n",
       "      <td>70</td>\n",
       "      <td>40</td>\n",
       "      <td>50</td>\n",
       "      <td>40</td>\n",
       "      <td>8</td>\n",
       "      <td>0.8</td>\n",
       "      <td>1</td>\n",
       "      <td>0</td>\n",
       "      <td>1</td>\n",
       "      <td>0</td>\n",
       "    </tr>\n",
       "    <tr>\n",
       "      <th>3</th>\n",
       "      <td>0.02</td>\n",
       "      <td>4</td>\n",
       "      <td>70</td>\n",
       "      <td>240</td>\n",
       "      <td>75</td>\n",
       "      <td>40</td>\n",
       "      <td>75</td>\n",
       "      <td>68</td>\n",
       "      <td>10</td>\n",
       "      <td>0.5</td>\n",
       "      <td>0</td>\n",
       "      <td>1</td>\n",
       "      <td>1</td>\n",
       "      <td>0</td>\n",
       "    </tr>\n",
       "    <tr>\n",
       "      <th>4</th>\n",
       "      <td>0.02</td>\n",
       "      <td>6</td>\n",
       "      <td>90</td>\n",
       "      <td>250</td>\n",
       "      <td>80</td>\n",
       "      <td>40</td>\n",
       "      <td>100</td>\n",
       "      <td>92</td>\n",
       "      <td>5</td>\n",
       "      <td>0.7</td>\n",
       "      <td>1</td>\n",
       "      <td>0</td>\n",
       "      <td>1</td>\n",
       "      <td>0</td>\n",
       "    </tr>\n",
       "  </tbody>\n",
       "</table>\n",
       "</div>"
      ],
      "text/plain": [
       "   layer_height  wall_thickness  infill_density  nozzle_temperature  \\\n",
       "0          0.02               8              90                 220   \n",
       "1          0.02               7              90                 225   \n",
       "2          0.02               1              80                 230   \n",
       "3          0.02               4              70                 240   \n",
       "4          0.02               6              90                 250   \n",
       "\n",
       "   bed_temperature  print_speed  fan_speed  roughness  tension_strenght  \\\n",
       "0               60           40          0         25                18   \n",
       "1               65           40         25         32                16   \n",
       "2               70           40         50         40                 8   \n",
       "3               75           40         75         68                10   \n",
       "4               80           40        100         92                 5   \n",
       "\n",
       "   elongation  infill_pattern_grid  infill_pattern_honeycomb  material_abs  \\\n",
       "0         1.2                    1                         0             1   \n",
       "1         1.4                    0                         1             1   \n",
       "2         0.8                    1                         0             1   \n",
       "3         0.5                    0                         1             1   \n",
       "4         0.7                    1                         0             1   \n",
       "\n",
       "   material_pla  \n",
       "0             0  \n",
       "1             0  \n",
       "2             0  \n",
       "3             0  \n",
       "4             0  "
      ]
     },
     "execution_count": 9,
     "metadata": {},
     "output_type": "execute_result"
    }
   ],
   "source": [
    "data_1.head()"
   ]
  },
  {
   "cell_type": "markdown",
   "id": "0c9831f2",
   "metadata": {
    "papermill": {
     "duration": 0.04201,
     "end_time": "2021-12-20T07:32:00.682712",
     "exception": false,
     "start_time": "2021-12-20T07:32:00.640702",
     "status": "completed"
    },
    "tags": []
   },
   "source": [
    "# **Visualization**"
   ]
  },
  {
   "cell_type": "code",
   "execution_count": 10,
   "id": "d4256447",
   "metadata": {
    "execution": {
     "iopub.execute_input": "2021-12-20T07:32:00.776136Z",
     "iopub.status.busy": "2021-12-20T07:32:00.773889Z",
     "iopub.status.idle": "2021-12-20T07:32:02.126706Z",
     "shell.execute_reply": "2021-12-20T07:32:02.127321Z",
     "shell.execute_reply.started": "2021-12-20T07:08:16.068724Z"
    },
    "papermill": {
     "duration": 1.402217,
     "end_time": "2021-12-20T07:32:02.127509",
     "exception": false,
     "start_time": "2021-12-20T07:32:00.725292",
     "status": "completed"
    },
    "tags": []
   },
   "outputs": [
    {
     "data": {
      "image/png": "[encoded data removed]",
      "text/plain": [
       "<Figure size 648x504 with 2 Axes>"
      ]
     },
     "metadata": {
      "needs_background": "light"
     },
     "output_type": "display_data"
    }
   ],
   "source": [
    "plt.figure(figsize=(9,7))\n",
    "corr_mat=data_1.corr()\n",
    "sns.heatmap(corr_mat,annot=True,fmt='.2f',cmap='Pastel1')\n",
    "plt.show()"
   ]
  },
  {
   "cell_type": "code",
   "execution_count": 11,
   "id": "8a9bbfeb",
   "metadata": {
    "execution": {
     "iopub.execute_input": "2021-12-20T07:32:02.212788Z",
     "iopub.status.busy": "2021-12-20T07:32:02.211978Z",
     "iopub.status.idle": "2021-12-20T07:32:02.215863Z",
     "shell.execute_reply": "2021-12-20T07:32:02.216479Z",
     "shell.execute_reply.started": "2021-12-20T07:08:17.169162Z"
    },
    "papermill": {
     "duration": 0.05042,
     "end_time": "2021-12-20T07:32:02.216631",
     "exception": false,
     "start_time": "2021-12-20T07:32:02.166211",
     "status": "completed"
    },
    "tags": []
   },
   "outputs": [],
   "source": [
    "x_1=data_1.drop(['tension_strenght'],axis=1)\n",
    "y_1=data_1['tension_strenght']"
   ]
  },
  {
   "cell_type": "code",
   "execution_count": 12,
   "id": "e4400d68",
   "metadata": {
    "execution": {
     "iopub.execute_input": "2021-12-20T07:32:02.297604Z",
     "iopub.status.busy": "2021-12-20T07:32:02.296703Z",
     "iopub.status.idle": "2021-12-20T07:32:02.413764Z",
     "shell.execute_reply": "2021-12-20T07:32:02.413108Z",
     "shell.execute_reply.started": "2021-12-20T07:08:17.177566Z"
    },
    "papermill": {
     "duration": 0.159397,
     "end_time": "2021-12-20T07:32:02.413898",
     "exception": false,
     "start_time": "2021-12-20T07:32:02.254501",
     "status": "completed"
    },
    "tags": []
   },
   "outputs": [],
   "source": [
    "from sklearn.preprocessing import StandardScaler\n",
    "ss=StandardScaler()"
   ]
  },
  {
   "cell_type": "markdown",
   "id": "e332ee7d",
   "metadata": {
    "papermill": {
     "duration": 0.038973,
     "end_time": "2021-12-20T07:32:02.493593",
     "exception": false,
     "start_time": "2021-12-20T07:32:02.454620",
     "status": "completed"
    },
    "tags": []
   },
   "source": [
    "# **Feature importance**"
   ]
  },
  {
   "cell_type": "markdown",
   "id": "e8d4d301",
   "metadata": {
    "papermill": {
     "duration": 0.040326,
     "end_time": "2021-12-20T07:32:02.572352",
     "exception": false,
     "start_time": "2021-12-20T07:32:02.532026",
     "status": "completed"
    },
    "tags": []
   },
   "source": [
    "Finding feature importance"
   ]
  },
  {
   "cell_type": "code",
   "execution_count": 13,
   "id": "1e36e8dc",
   "metadata": {
    "execution": {
     "iopub.execute_input": "2021-12-20T07:32:02.656446Z",
     "iopub.status.busy": "2021-12-20T07:32:02.655696Z",
     "iopub.status.idle": "2021-12-20T07:32:02.875442Z",
     "shell.execute_reply": "2021-12-20T07:32:02.874855Z",
     "shell.execute_reply.started": "2021-12-20T07:08:30.909429Z"
    },
    "papermill": {
     "duration": 0.264356,
     "end_time": "2021-12-20T07:32:02.875585",
     "exception": false,
     "start_time": "2021-12-20T07:32:02.611229",
     "status": "completed"
    },
    "tags": []
   },
   "outputs": [],
   "source": [
    "from sklearn.ensemble import RandomForestRegressor"
   ]
  },
  {
   "cell_type": "code",
   "execution_count": 14,
   "id": "34f52e67",
   "metadata": {
    "execution": {
     "iopub.execute_input": "2021-12-20T07:32:02.958028Z",
     "iopub.status.busy": "2021-12-20T07:32:02.956913Z",
     "iopub.status.idle": "2021-12-20T07:32:03.162372Z",
     "shell.execute_reply": "2021-12-20T07:32:03.161770Z",
     "shell.execute_reply.started": "2021-12-20T07:08:31.168743Z"
    },
    "papermill": {
     "duration": 0.2471,
     "end_time": "2021-12-20T07:32:03.162551",
     "exception": false,
     "start_time": "2021-12-20T07:32:02.915451",
     "status": "completed"
    },
    "tags": []
   },
   "outputs": [],
   "source": [
    "rf=RandomForestRegressor()\n",
    "rf.fit(x_1,y_1)\n",
    "fi=rf.feature_importances_"
   ]
  },
  {
   "cell_type": "code",
   "execution_count": 15,
   "id": "434a8ce3",
   "metadata": {
    "execution": {
     "iopub.execute_input": "2021-12-20T07:32:03.247958Z",
     "iopub.status.busy": "2021-12-20T07:32:03.247054Z",
     "iopub.status.idle": "2021-12-20T07:32:03.250539Z",
     "shell.execute_reply": "2021-12-20T07:32:03.251035Z",
     "shell.execute_reply.started": "2021-12-20T07:08:31.477838Z"
    },
    "papermill": {
     "duration": 0.048694,
     "end_time": "2021-12-20T07:32:03.251179",
     "exception": false,
     "start_time": "2021-12-20T07:32:03.202485",
     "status": "completed"
    },
    "tags": []
   },
   "outputs": [
    {
     "data": {
      "text/plain": [
       "array([0.01135654, 0.0969621 , 0.07544932, 0.01644313, 0.00854018,\n",
       "       0.01251531, 0.00974745, 0.02287496, 0.72695403, 0.00206939,\n",
       "       0.00478271, 0.00584111, 0.00646377])"
      ]
     },
     "execution_count": 15,
     "metadata": {},
     "output_type": "execute_result"
    }
   ],
   "source": [
    "fi"
   ]
  },
  {
   "cell_type": "code",
   "execution_count": 16,
   "id": "d218e0d0",
   "metadata": {
    "execution": {
     "iopub.execute_input": "2021-12-20T07:32:03.347652Z",
     "iopub.status.busy": "2021-12-20T07:32:03.330220Z",
     "iopub.status.idle": "2021-12-20T07:32:03.599022Z",
     "shell.execute_reply": "2021-12-20T07:32:03.598430Z",
     "shell.execute_reply.started": "2021-12-20T07:08:31.787912Z"
    },
    "papermill": {
     "duration": 0.309181,
     "end_time": "2021-12-20T07:32:03.599161",
     "exception": false,
     "start_time": "2021-12-20T07:32:03.289980",
     "status": "completed"
    },
    "tags": []
   },
   "outputs": [
    {
     "data": {
      "image/png": "[encoded data removed]",
      "text/plain": [
       "<Figure size 648x504 with 1 Axes>"
      ]
     },
     "metadata": {
      "needs_background": "light"
     },
     "output_type": "display_data"
    }
   ],
   "source": [
    "plt.figure(figsize=(9,7))\n",
    "plt.bar(x_1.columns,fi)\n",
    "plt.xticks(rotation=90)\n",
    "plt.show()"
   ]
  },
  {
   "cell_type": "markdown",
   "id": "7082687f",
   "metadata": {
    "papermill": {
     "duration": 0.042878,
     "end_time": "2021-12-20T07:32:03.683547",
     "exception": false,
     "start_time": "2021-12-20T07:32:03.640669",
     "status": "completed"
    },
    "tags": []
   },
   "source": [
    "The tensile strength depends lots on elongation, wall thickness and infill density."
   ]
  },
  {
   "cell_type": "code",
   "execution_count": 17,
   "id": "cb7ce25f",
   "metadata": {
    "execution": {
     "iopub.execute_input": "2021-12-20T07:32:03.767576Z",
     "iopub.status.busy": "2021-12-20T07:32:03.766590Z",
     "iopub.status.idle": "2021-12-20T07:32:03.769786Z",
     "shell.execute_reply": "2021-12-20T07:32:03.769325Z",
     "shell.execute_reply.started": "2021-12-20T07:08:32.368754Z"
    },
    "papermill": {
     "duration": 0.047287,
     "end_time": "2021-12-20T07:32:03.769925",
     "exception": false,
     "start_time": "2021-12-20T07:32:03.722638",
     "status": "completed"
    },
    "tags": []
   },
   "outputs": [],
   "source": [
    "from sklearn.model_selection import train_test_split,GridSearchCV\n",
    "from sklearn.svm import SVR\n",
    "from sklearn.metrics import mean_squared_error"
   ]
  },
  {
   "cell_type": "code",
   "execution_count": 18,
   "id": "86bd09f1",
   "metadata": {
    "execution": {
     "iopub.execute_input": "2021-12-20T07:32:03.855738Z",
     "iopub.status.busy": "2021-12-20T07:32:03.854793Z",
     "iopub.status.idle": "2021-12-20T07:32:03.858517Z",
     "shell.execute_reply": "2021-12-20T07:32:03.858990Z",
     "shell.execute_reply.started": "2021-12-20T07:08:32.652889Z"
    },
    "papermill": {
     "duration": 0.050749,
     "end_time": "2021-12-20T07:32:03.859131",
     "exception": false,
     "start_time": "2021-12-20T07:32:03.808382",
     "status": "completed"
    },
    "tags": []
   },
   "outputs": [],
   "source": [
    "xtran,xtest,ytran,ytest=train_test_split(x_1,y_1,test_size=0.1,random_state=42)"
   ]
  },
  {
   "cell_type": "markdown",
   "id": "8f4e0886",
   "metadata": {
    "papermill": {
     "duration": 0.038741,
     "end_time": "2021-12-20T07:32:03.937724",
     "exception": false,
     "start_time": "2021-12-20T07:32:03.898983",
     "status": "completed"
    },
    "tags": []
   },
   "source": [
    "# **Modelling**"
   ]
  },
  {
   "cell_type": "markdown",
   "id": "d0456da5",
   "metadata": {
    "papermill": {
     "duration": 0.043707,
     "end_time": "2021-12-20T07:32:04.020687",
     "exception": false,
     "start_time": "2021-12-20T07:32:03.976980",
     "status": "completed"
    },
    "tags": []
   },
   "source": [
    "1.With support vector regression"
   ]
  },
  {
   "cell_type": "code",
   "execution_count": 19,
   "id": "fac55fd3",
   "metadata": {
    "execution": {
     "iopub.execute_input": "2021-12-20T07:32:04.108199Z",
     "iopub.status.busy": "2021-12-20T07:32:04.107323Z",
     "iopub.status.idle": "2021-12-20T07:32:04.110550Z",
     "shell.execute_reply": "2021-12-20T07:32:04.109967Z",
     "shell.execute_reply.started": "2021-12-20T07:08:33.503771Z"
    },
    "papermill": {
     "duration": 0.049969,
     "end_time": "2021-12-20T07:32:04.110691",
     "exception": false,
     "start_time": "2021-12-20T07:32:04.060722",
     "status": "completed"
    },
    "tags": []
   },
   "outputs": [],
   "source": [
    "svr=SVR()\n",
    "params_grid={'C':[0.1,1,10,50,100],\n",
    "            'gamma':[1,0.1,0.01,0.001],\n",
    "            'kernel':['rbf']}"
   ]
  },
  {
   "cell_type": "code",
   "execution_count": 20,
   "id": "bde0d2fc",
   "metadata": {
    "execution": {
     "iopub.execute_input": "2021-12-20T07:32:04.197300Z",
     "iopub.status.busy": "2021-12-20T07:32:04.196092Z",
     "iopub.status.idle": "2021-12-20T07:32:04.199087Z",
     "shell.execute_reply": "2021-12-20T07:32:04.198509Z",
     "shell.execute_reply.started": "2021-12-20T07:08:33.768254Z"
    },
    "papermill": {
     "duration": 0.048779,
     "end_time": "2021-12-20T07:32:04.199219",
     "exception": false,
     "start_time": "2021-12-20T07:32:04.150440",
     "status": "completed"
    },
    "tags": []
   },
   "outputs": [],
   "source": [
    "grd_svr=GridSearchCV(svr,param_grid=params_grid,scoring='neg_mean_squared_error')"
   ]
  },
  {
   "cell_type": "code",
   "execution_count": 21,
   "id": "e2f99ef1",
   "metadata": {
    "execution": {
     "iopub.execute_input": "2021-12-20T07:32:04.288848Z",
     "iopub.status.busy": "2021-12-20T07:32:04.287765Z",
     "iopub.status.idle": "2021-12-20T07:32:04.916448Z",
     "shell.execute_reply": "2021-12-20T07:32:04.915768Z",
     "shell.execute_reply.started": "2021-12-20T07:08:33.968561Z"
    },
    "papermill": {
     "duration": 0.674897,
     "end_time": "2021-12-20T07:32:04.916593",
     "exception": false,
     "start_time": "2021-12-20T07:32:04.241696",
     "status": "completed"
    },
    "tags": []
   },
   "outputs": [
    {
     "data": {
      "text/plain": [
       "GridSearchCV(estimator=SVR(),\n",
       "             param_grid={'C': [0.1, 1, 10, 50, 100],\n",
       "                         'gamma': [1, 0.1, 0.01, 0.001], 'kernel': ['rbf']},\n",
       "             scoring='neg_mean_squared_error')"
      ]
     },
     "execution_count": 21,
     "metadata": {},
     "output_type": "execute_result"
    }
   ],
   "source": [
    "grd_svr.fit(xtran,ytran)"
   ]
  },
  {
   "cell_type": "code",
   "execution_count": 22,
   "id": "776ed08b",
   "metadata": {
    "execution": {
     "iopub.execute_input": "2021-12-20T07:32:05.005958Z",
     "iopub.status.busy": "2021-12-20T07:32:05.004881Z",
     "iopub.status.idle": "2021-12-20T07:32:05.008731Z",
     "shell.execute_reply": "2021-12-20T07:32:05.009296Z",
     "shell.execute_reply.started": "2021-12-20T07:08:34.458484Z"
    },
    "papermill": {
     "duration": 0.051842,
     "end_time": "2021-12-20T07:32:05.009446",
     "exception": false,
     "start_time": "2021-12-20T07:32:04.957604",
     "status": "completed"
    },
    "tags": []
   },
   "outputs": [
    {
     "data": {
      "text/plain": [
       "-76.0120309825792"
      ]
     },
     "execution_count": 22,
     "metadata": {},
     "output_type": "execute_result"
    }
   ],
   "source": [
    "grd_svr.best_score_"
   ]
  },
  {
   "cell_type": "code",
   "execution_count": 23,
   "id": "8e85a744",
   "metadata": {
    "execution": {
     "iopub.execute_input": "2021-12-20T07:32:05.097622Z",
     "iopub.status.busy": "2021-12-20T07:32:05.096595Z",
     "iopub.status.idle": "2021-12-20T07:32:05.101132Z",
     "shell.execute_reply": "2021-12-20T07:32:05.100606Z",
     "shell.execute_reply.started": "2021-12-20T07:08:34.477729Z"
    },
    "papermill": {
     "duration": 0.050306,
     "end_time": "2021-12-20T07:32:05.101319",
     "exception": false,
     "start_time": "2021-12-20T07:32:05.051013",
     "status": "completed"
    },
    "tags": []
   },
   "outputs": [
    {
     "data": {
      "text/plain": [
       "{'C': 50, 'gamma': 0.001, 'kernel': 'rbf'}"
      ]
     },
     "execution_count": 23,
     "metadata": {},
     "output_type": "execute_result"
    }
   ],
   "source": [
    "grd_svr.best_params_"
   ]
  },
  {
   "cell_type": "code",
   "execution_count": 24,
   "id": "456eed11",
   "metadata": {
    "execution": {
     "iopub.execute_input": "2021-12-20T07:32:05.188532Z",
     "iopub.status.busy": "2021-12-20T07:32:05.187523Z",
     "iopub.status.idle": "2021-12-20T07:32:05.191610Z",
     "shell.execute_reply": "2021-12-20T07:32:05.191042Z",
     "shell.execute_reply.started": "2021-12-20T07:08:34.767852Z"
    },
    "papermill": {
     "duration": 0.04861,
     "end_time": "2021-12-20T07:32:05.191736",
     "exception": false,
     "start_time": "2021-12-20T07:32:05.143126",
     "status": "completed"
    },
    "tags": []
   },
   "outputs": [],
   "source": [
    "svr=SVR(**grd_svr.best_params_)"
   ]
  },
  {
   "cell_type": "code",
   "execution_count": 25,
   "id": "65e7bc1a",
   "metadata": {
    "execution": {
     "iopub.execute_input": "2021-12-20T07:32:05.285453Z",
     "iopub.status.busy": "2021-12-20T07:32:05.284029Z",
     "iopub.status.idle": "2021-12-20T07:32:05.291365Z",
     "shell.execute_reply": "2021-12-20T07:32:05.291975Z",
     "shell.execute_reply.started": "2021-12-20T07:08:35.022815Z"
    },
    "papermill": {
     "duration": 0.058117,
     "end_time": "2021-12-20T07:32:05.292174",
     "exception": false,
     "start_time": "2021-12-20T07:32:05.234057",
     "status": "completed"
    },
    "tags": []
   },
   "outputs": [
    {
     "data": {
      "text/plain": [
       "SVR(C=50, gamma=0.001)"
      ]
     },
     "execution_count": 25,
     "metadata": {},
     "output_type": "execute_result"
    }
   ],
   "source": [
    "svr.fit(x_1,y_1)"
   ]
  },
  {
   "cell_type": "markdown",
   "id": "c9737249",
   "metadata": {
    "papermill": {
     "duration": 0.04295,
     "end_time": "2021-12-20T07:32:05.379550",
     "exception": false,
     "start_time": "2021-12-20T07:32:05.336600",
     "status": "completed"
    },
    "tags": []
   },
   "source": [
    "RMSE of SVR"
   ]
  },
  {
   "cell_type": "code",
   "execution_count": 26,
   "id": "700e33f2",
   "metadata": {
    "execution": {
     "iopub.execute_input": "2021-12-20T07:32:05.469536Z",
     "iopub.status.busy": "2021-12-20T07:32:05.468569Z",
     "iopub.status.idle": "2021-12-20T07:32:05.472002Z",
     "shell.execute_reply": "2021-12-20T07:32:05.472574Z",
     "shell.execute_reply.started": "2021-12-20T07:08:35.508334Z"
    },
    "papermill": {
     "duration": 0.052026,
     "end_time": "2021-12-20T07:32:05.472720",
     "exception": false,
     "start_time": "2021-12-20T07:32:05.420694",
     "status": "completed"
    },
    "tags": []
   },
   "outputs": [
    {
     "data": {
      "text/plain": [
       "0.09998544232194084"
      ]
     },
     "execution_count": 26,
     "metadata": {},
     "output_type": "execute_result"
    }
   ],
   "source": [
    "np.sqrt(mean_squared_error(svr.predict(x_1),y_1))"
   ]
  },
  {
   "cell_type": "markdown",
   "id": "6daddb6b",
   "metadata": {
    "papermill": {
     "duration": 0.040589,
     "end_time": "2021-12-20T07:32:05.553909",
     "exception": false,
     "start_time": "2021-12-20T07:32:05.513320",
     "status": "completed"
    },
    "tags": []
   },
   "source": [
    "With XGBoost"
   ]
  },
  {
   "cell_type": "code",
   "execution_count": 27,
   "id": "ac5ac9a7",
   "metadata": {
    "execution": {
     "iopub.execute_input": "2021-12-20T07:32:05.641335Z",
     "iopub.status.busy": "2021-12-20T07:32:05.640480Z",
     "iopub.status.idle": "2021-12-20T07:32:05.733349Z",
     "shell.execute_reply": "2021-12-20T07:32:05.733915Z",
     "shell.execute_reply.started": "2021-12-20T07:08:36.330022Z"
    },
    "papermill": {
     "duration": 0.138791,
     "end_time": "2021-12-20T07:32:05.734104",
     "exception": false,
     "start_time": "2021-12-20T07:32:05.595313",
     "status": "completed"
    },
    "tags": []
   },
   "outputs": [],
   "source": [
    "import xgboost as xgb"
   ]
  },
  {
   "cell_type": "code",
   "execution_count": 28,
   "id": "e112287a",
   "metadata": {
    "execution": {
     "iopub.execute_input": "2021-12-20T07:32:05.823774Z",
     "iopub.status.busy": "2021-12-20T07:32:05.822661Z",
     "iopub.status.idle": "2021-12-20T07:32:05.825074Z",
     "shell.execute_reply": "2021-12-20T07:32:05.825625Z",
     "shell.execute_reply.started": "2021-12-20T07:09:19.638458Z"
    },
    "papermill": {
     "duration": 0.049656,
     "end_time": "2021-12-20T07:32:05.825789",
     "exception": false,
     "start_time": "2021-12-20T07:32:05.776133",
     "status": "completed"
    },
    "tags": []
   },
   "outputs": [],
   "source": [
    "para_grd={'n_estimators':[50,100,300,500],\n",
    "          'max_depth':[2,3,5,7],\n",
    "          'eval_metric':['rmse']\n",
    "         }\n",
    "xg=xgb.XGBRegressor()\n",
    "grd_xg=GridSearchCV(xg,param_grid=para_grd)"
   ]
  },
  {
   "cell_type": "code",
   "execution_count": 29,
   "id": "2ed8a7d6",
   "metadata": {
    "execution": {
     "iopub.execute_input": "2021-12-20T07:32:05.916071Z",
     "iopub.status.busy": "2021-12-20T07:32:05.915177Z",
     "iopub.status.idle": "2021-12-20T07:32:15.295849Z",
     "shell.execute_reply": "2021-12-20T07:32:15.296397Z",
     "shell.execute_reply.started": "2021-12-20T07:09:20.253664Z"
    },
    "papermill": {
     "duration": 9.429817,
     "end_time": "2021-12-20T07:32:15.296579",
     "exception": false,
     "start_time": "2021-12-20T07:32:05.866762",
     "status": "completed"
    },
    "tags": []
   },
   "outputs": [
    {
     "data": {
      "text/plain": [
       "GridSearchCV(estimator=XGBRegressor(base_score=None, booster=None,\n",
       "                                    colsample_bylevel=None,\n",
       "                                    colsample_bynode=None,\n",
       "                                    colsample_bytree=None,\n",
       "                                    enable_categorical=False, gamma=None,\n",
       "                                    gpu_id=None, importance_type=None,\n",
       "                                    interaction_constraints=None,\n",
       "                                    learning_rate=None, max_delta_step=None,\n",
       "                                    max_depth=None, min_child_weight=None,\n",
       "                                    missing=nan, monotone_constraints=None,\n",
       "                                    n_estimators=100, n_jobs=None,\n",
       "                                    num_parallel_tree=None, predictor=None,\n",
       "                                    random_state=None, reg_alpha=None,\n",
       "                                    reg_lambda=None, scale_pos_weight=None,\n",
       "                                    subsample=None, tree_method=None,\n",
       "                                    validate_parameters=None, verbosity=None),\n",
       "             param_grid={'eval_metric': ['rmse'], 'max_depth': [2, 3, 5, 7],\n",
       "                         'n_estimators': [50, 100, 300, 500]})"
      ]
     },
     "execution_count": 29,
     "metadata": {},
     "output_type": "execute_result"
    }
   ],
   "source": [
    "grd_xg.fit(x_1,y_1)"
   ]
  },
  {
   "cell_type": "code",
   "execution_count": 30,
   "id": "135c9f5f",
   "metadata": {
    "execution": {
     "iopub.execute_input": "2021-12-20T07:32:15.385368Z",
     "iopub.status.busy": "2021-12-20T07:32:15.384503Z",
     "iopub.status.idle": "2021-12-20T07:32:15.388019Z",
     "shell.execute_reply": "2021-12-20T07:32:15.388576Z",
     "shell.execute_reply.started": "2021-12-20T07:09:25.923293Z"
    },
    "papermill": {
     "duration": 0.050753,
     "end_time": "2021-12-20T07:32:15.388713",
     "exception": false,
     "start_time": "2021-12-20T07:32:15.337960",
     "status": "completed"
    },
    "tags": []
   },
   "outputs": [
    {
     "data": {
      "text/plain": [
       "{'eval_metric': 'rmse', 'max_depth': 2, 'n_estimators': 100}"
      ]
     },
     "execution_count": 30,
     "metadata": {},
     "output_type": "execute_result"
    }
   ],
   "source": [
    "grd_xg.best_params_"
   ]
  },
  {
   "cell_type": "code",
   "execution_count": 31,
   "id": "f941c2d6",
   "metadata": {
    "execution": {
     "iopub.execute_input": "2021-12-20T07:32:15.479506Z",
     "iopub.status.busy": "2021-12-20T07:32:15.478608Z",
     "iopub.status.idle": "2021-12-20T07:32:15.481983Z",
     "shell.execute_reply": "2021-12-20T07:32:15.482562Z",
     "shell.execute_reply.started": "2021-12-20T07:10:24.973044Z"
    },
    "papermill": {
     "duration": 0.051931,
     "end_time": "2021-12-20T07:32:15.482705",
     "exception": false,
     "start_time": "2021-12-20T07:32:15.430774",
     "status": "completed"
    },
    "tags": []
   },
   "outputs": [
    {
     "data": {
      "text/plain": [
       "0.5531456821245933"
      ]
     },
     "execution_count": 31,
     "metadata": {},
     "output_type": "execute_result"
    }
   ],
   "source": [
    "grd_xg.best_score_"
   ]
  },
  {
   "cell_type": "code",
   "execution_count": 32,
   "id": "b651ed2f",
   "metadata": {
    "execution": {
     "iopub.execute_input": "2021-12-20T07:32:15.572320Z",
     "iopub.status.busy": "2021-12-20T07:32:15.571179Z",
     "iopub.status.idle": "2021-12-20T07:32:15.617952Z",
     "shell.execute_reply": "2021-12-20T07:32:15.618769Z",
     "shell.execute_reply.started": "2021-12-20T07:29:09.845719Z"
    },
    "papermill": {
     "duration": 0.09382,
     "end_time": "2021-12-20T07:32:15.618936",
     "exception": false,
     "start_time": "2021-12-20T07:32:15.525116",
     "status": "completed"
    },
    "tags": []
   },
   "outputs": [
    {
     "data": {
      "text/plain": [
       "0.26186229229931945"
      ]
     },
     "execution_count": 32,
     "metadata": {},
     "output_type": "execute_result"
    }
   ],
   "source": [
    "xg=xgb.XGBRegressor(**grd_xg.best_params_)\n",
    "xg=xg.fit(x_1,y_1)\n",
    "np.sqrt(mean_squared_error(xg.predict(x_1),y_1))"
   ]
  },
  {
   "cell_type": "markdown",
   "id": "a554acd7",
   "metadata": {
    "papermill": {
     "duration": 0.043577,
     "end_time": "2021-12-20T07:32:15.705162",
     "exception": false,
     "start_time": "2021-12-20T07:32:15.661585",
     "status": "completed"
    },
    "tags": []
   },
   "source": [
    "**From this above two ML model, support vector regessor performs better than xgbregressor**"
   ]
  }
 ],
 "metadata": {
  "kernelspec": {
   "display_name": "Python 3",
   "language": "python",
   "name": "python3"
  },
  "language_info": {
   "codemirror_mode": {
    "name": "ipython",
    "version": 3
   },
   "file_extension": ".py",
   "mimetype": "text/x-python",
   "name": "python",
   "nbconvert_exporter": "python",
   "pygments_lexer": "ipython3",
   "version": "3.7.12"
  },
  "papermill": {
   "default_parameters": {},
   "duration": 28.359528,
   "end_time": "2021-12-20T07:32:16.963257",
   "environment_variables": {},
   "exception": null,
   "input_path": "__notebook__.ipynb",
   "output_path": "__notebook__.ipynb",
   "parameters": {},
   "start_time": "2021-12-20T07:31:48.603729",
   "version": "2.3.3"
  }
 },
 "nbformat": 4,
 "nbformat_minor": 5
}
